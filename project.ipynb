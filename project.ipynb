{
 "cells": [
  {
   "cell_type": "markdown",
   "metadata": {},
   "source": [
    "### Project - PlantGrowth R dataset analysis"
   ]
  },
  {
   "cell_type": "markdown",
   "metadata": {},
   "source": [
    "In this project, we will analyse the PlantGrowth R dataset which is contained of the control group and two treatment groups. By performing t-test and ANOVA statistical tests, we will determine whether there is a significant difference between the groups. Additionally, we will compare ANOVA and t-test approach in this particular dataset analysis. "
   ]
  }
 ],
 "metadata": {
  "language_info": {
   "name": "python"
  }
 },
 "nbformat": 4,
 "nbformat_minor": 2
}
