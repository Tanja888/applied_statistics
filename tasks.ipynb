{
 "cells": [
  {
   "cell_type": "markdown",
   "metadata": {},
   "source": [
    "#### This notebook consists of four tasks, which will be developed gradually :\n",
    "1. Permutations and Combinations\n",
    "2. numpy's Normal Distribution \n",
    "3. t-Test Calculation\n",
    "4. ANOVA\n"
   ]
  },
  {
   "cell_type": "markdown",
   "metadata": {},
   "source": [
    "### 1. Permutations and Combinations"
   ]
  },
  {
   "cell_type": "markdown",
   "metadata": {},
   "source": [
    "This task is based on Lady Tasting Tea experiment created by Ronald Fisher published in The Design of Experiments in 1935.<br>Background: Eight cups of tea were given to a lady who was asked to differentiate between four cups of tea that had milk in first and four cups with tea added first. \n",
    "\n",
    "The null hypothesis H<sub>0</sub> of the experiment: The lady couldn't tell the difference between the cups.    \n",
    "\n",
    "Task:       \n",
    "- Altering the experiment by using 12 cups of tea instead of 8 with 6 having milk in first and 6 having tea in first where the subject claims to be able to tell the difference between the cups.<br> \n",
    "The H<sub>0</sub> remains the same: the subject is not able to distinguish between the cups.      \n",
    "- Accept one error in the experiment assuming the subject selected 5 correct cups and calculate the probability with H<sub>0</sub> remaining the same     \n",
    "- Accept two errors and calculate the probability         "
   ]
  },
  {
   "cell_type": "markdown",
   "metadata": {},
   "source": []
  },
  {
   "cell_type": "markdown",
   "metadata": {},
   "source": [
    "#### Sources: \n",
    "<https://github.com/ianmcloughlin/2425_applied_statistics>\n"
   ]
  }
 ],
 "metadata": {
  "language_info": {
   "name": "python"
  }
 },
 "nbformat": 4,
 "nbformat_minor": 2
}
